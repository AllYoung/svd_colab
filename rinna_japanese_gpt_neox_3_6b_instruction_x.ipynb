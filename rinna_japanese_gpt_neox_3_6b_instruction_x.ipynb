{
  "cells": [
    {
      "attachments": {},
      "cell_type": "markdown",
      "metadata": {
        "id": "_ssxKGiXg_0L"
      },
      "source": [
        "# Chat with `rinna/japanese-gpt-neox-3.6b-instruction-*`\n",
        "\n",
        "<a target=\"_blank\" href=\"https://colab.research.google.com/github/mkshing/notebooks/blob/main/rinna_japanese_gpt_neox_3_6b_instruction_x.ipynb\">\n",
        "  <img src=\"https://colab.research.google.com/assets/colab-badge.svg\" alt=\"Open In Colab\"/>\n",
        "</a>\n",
        "\n",
        "This notebook allows you to interact with the following `rinna/japanese-gpt-neox-3.6b-instruction-*` by using Gradio.\n",
        "\n",
        "- https://huggingface.co/rinna/japanese-gpt-neox-3.6b-instruction-sft\n",
        "- https://huggingface.co/rinna/japanese-gpt-neox-3.6b-instruction-sft-v2\n",
        "- https://huggingface.co/rinna/japanese-gpt-neox-3.6b-instruction-ppo\n"
      ]
    },
    {
      "cell_type": "code",
      "execution_count": null,
      "metadata": {
        "cellView": "form",
        "id": "9-6jmt7Yg2Us"
      },
      "outputs": [],
      "source": [
        "# @title **Setup**\n",
        "!nvidia-smi\n",
        "!pip install transformers sentencepiece gradio ftfy 'accelerate>=0.12.0' 'bitsandbytes>=0.31.5'"
      ]
    },
    {
      "cell_type": "code",
      "execution_count": null,
      "metadata": {
        "cellView": "form",
        "id": "g3xN2it8iQ9u"
      },
      "outputs": [],
      "source": [
        "# @title Load model\n",
        "import torch\n",
        "from transformers import AutoTokenizer, AutoModelForCausalLM\n",
        "\n",
        "device = \"cuda\" if torch.cuda.is_available() else \"cpu\"\n",
        "print(f\"device: {device}\")\n",
        "\n",
        "model_id = \"rinna/japanese-gpt-neox-3.6b-instruction-ppo\" # @param [\"rinna/japanese-gpt-neox-3.6b-instruction-sft\", \"rinna/japanese-gpt-neox-3.6b-instruction-sft-v2\", \"rinna/japanese-gpt-neox-3.6b-instruction-ppo\"]\n",
        "tokenizer = AutoTokenizer.from_pretrained(model_id, use_fast=False)\n",
        "model = AutoModelForCausalLM.from_pretrained(model_id, device_map=\"auto\", torch_dtype=torch.float16)\n",
        "model = model.to(device)"
      ]
    },
    {
      "cell_type": "code",
      "execution_count": null,
      "metadata": {
        "cellView": "form",
        "id": "Jz2bT7eKkQaG"
      },
      "outputs": [],
      "source": [
        "# @title **Chat!**\n",
        "import itertools\n",
        "import gradio as gr\n",
        "\n",
        "\n",
        "@torch.no_grad()\n",
        "def inference_func(prompt, max_new_tokens=128, temperature=0.7, repetition_penalty=1.1):\n",
        "  token_ids = tokenizer.encode(prompt, add_special_tokens=False, return_tensors=\"pt\")\n",
        "  output_ids = model.generate(\n",
        "      token_ids.to(model.device),\n",
        "      do_sample=True,\n",
        "      max_new_tokens=max_new_tokens,\n",
        "      temperature=temperature,\n",
        "      repetition_penalty=repetition_penalty,\n",
        "      pad_token_id=tokenizer.pad_token_id,\n",
        "      bos_token_id=tokenizer.bos_token_id,\n",
        "      eos_token_id=tokenizer.eos_token_id\n",
        "  )\n",
        "  output = tokenizer.decode(output_ids.tolist()[0][token_ids.size(1):], skip_special_tokens=True)\n",
        "  output = output.replace(\"<NL>\", \"\\n\")\n",
        "  return output\n",
        "\n",
        "\n",
        "def make_prompt(message, chat_history, max_context_size: int = 10):\n",
        "  contexts = chat_history + [[message, \"\"]]\n",
        "  contexts = list(itertools.chain.from_iterable(contexts))\n",
        "  if max_context_size > 0:\n",
        "    context_size = max_context_size - 1\n",
        "  else:\n",
        "    context_size = 100000\n",
        "  contexts = contexts[-context_size:]\n",
        "  prompt = []\n",
        "  for idx, context in enumerate(reversed(contexts)):\n",
        "    if idx % 2 == 0:\n",
        "      prompt = [f\"システム: {context}\"] + prompt\n",
        "    else:\n",
        "      prompt = [f\"ユーザー: {context}\"] + prompt    \n",
        "  prompt = \"<NL>\".join(prompt)\n",
        "  return prompt\n",
        "\n",
        "def interact_func(message, chat_history, max_context_size, max_new_tokens, temperature, repetition_penalty):\n",
        "  prompt = make_prompt(message, chat_history, max_context_size)\n",
        "  print(f\"prompt: {prompt}\")\n",
        "  generated = inference_func(prompt, max_new_tokens, temperature)\n",
        "  print(f\"generated: {generated}\")\n",
        "  chat_history.append((message, generated))\n",
        "  return \"\", chat_history\n",
        "\n",
        "\n",
        "with gr.Blocks() as demo:\n",
        "  gr.Markdown(\"# Chat with `rinna/japanese-gpt-neox-3.6b-instruction-x`\")\n",
        "  with gr.Accordion(\"Configs\", open=False):\n",
        "      # max_context_size = the number of turns * 2\n",
        "      max_context_size = gr.Number(value=10, label=\"max_context_size\", precision=0)\n",
        "      max_new_tokens = gr.Number(value=128, label=\"max_new_tokens\", precision=0)\n",
        "      temperature = gr.Slider(0.0, 2.0, value=0.7, step=0.1, label=\"temperature\")\n",
        "      repetition_penalty = gr.Slider(0.0, 5.0, value=1.1, step=0.1, label=\"repetition_penalty\")\n",
        "  chatbot = gr.Chatbot()\n",
        "  msg = gr.Textbox()\n",
        "  clear = gr.Button(\"Clear\")\n",
        "  msg.submit(interact_func, [msg, chatbot, max_context_size, max_new_tokens, temperature, repetition_penalty], [msg, chatbot])\n",
        "  clear.click(lambda: None, None, chatbot, queue=False)\n",
        "\n",
        "if __name__ == \"__main__\":\n",
        "    demo.launch(debug=True, share=True)"
      ]
    }
  ],
  "metadata": {
    "accelerator": "GPU",
    "colab": {
      "gpuType": "T4",
      "provenance": []
    },
    "gpuClass": "standard",
    "kernelspec": {
      "display_name": "Python 3",
      "name": "python3"
    },
    "language_info": {
      "name": "python"
    }
  },
  "nbformat": 4,
  "nbformat_minor": 0
}
