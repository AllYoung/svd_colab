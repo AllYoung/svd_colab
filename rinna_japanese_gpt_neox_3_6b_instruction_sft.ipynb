{
  "nbformat": 4,
  "nbformat_minor": 0,
  "metadata": {
    "colab": {
      "provenance": [],
      "gpuType": "T4",
      "authorship_tag": "ABX9TyOSafohmGJKQu+OWP7ijU4D",
      "include_colab_link": true
    },
    "kernelspec": {
      "name": "python3",
      "display_name": "Python 3"
    },
    "language_info": {
      "name": "python"
    },
    "accelerator": "GPU",
    "gpuClass": "standard"
  },
  "cells": [
    {
      "cell_type": "markdown",
      "metadata": {
        "id": "view-in-github",
        "colab_type": "text"
      },
      "source": [
        "<a href=\"https://colab.research.google.com/github/mkshing/notebooks/blob/main/rinna_japanese_gpt_neox_3_6b_instruction_sft.ipynb\" target=\"_parent\"><img src=\"https://colab.research.google.com/assets/colab-badge.svg\" alt=\"Open In Colab\"/></a>"
      ]
    },
    {
      "cell_type": "markdown",
      "source": [
        "This notebook allows you to interact with `rinna/japanese-gpt-neox-3.6b-instruction-sft` by using Gradio "
      ],
      "metadata": {
        "id": "_ssxKGiXg_0L"
      }
    },
    {
      "cell_type": "code",
      "execution_count": null,
      "metadata": {
        "cellView": "form",
        "id": "9-6jmt7Yg2Us"
      },
      "outputs": [],
      "source": [
        "# @title **Setup**\n",
        "!nvidia-smi\n",
        "!pip install transformers sentencepiece gradio ftfy 'accelerate>=0.12.0' 'bitsandbytes>=0.31.5'"
      ]
    },
    {
      "cell_type": "code",
      "source": [
        "# @title Load model\n",
        "import torch\n",
        "from transformers import AutoTokenizer, AutoModelForCausalLM\n",
        "\n",
        "device = \"cuda\" if torch.cuda.is_available() else \"cpu\"\n",
        "print(f\"device: {device}\")\n",
        "\n",
        "tokenizer = AutoTokenizer.from_pretrained(\"rinna/japanese-gpt-neox-3.6b-instruction-sft\", use_fast=False)\n",
        "model = AutoModelForCausalLM.from_pretrained(\"rinna/japanese-gpt-neox-3.6b-instruction-sft\", device_map=\"auto\", torch_dtype=torch.float16)\n",
        "model = model.to(device)"
      ],
      "metadata": {
        "cellView": "form",
        "id": "g3xN2it8iQ9u"
      },
      "execution_count": null,
      "outputs": []
    },
    {
      "cell_type": "code",
      "source": [
        "# @title **Chat!**\n",
        "import itertools\n",
        "import gradio as gr\n",
        "\n",
        "\n",
        "@torch.no_grad()\n",
        "def inference_func(prompt, max_new_tokens=128, temperature=0.7):\n",
        "  token_ids = tokenizer.encode(prompt, add_special_tokens=False, return_tensors=\"pt\")\n",
        "  output_ids = model.generate(\n",
        "      token_ids.to(model.device),\n",
        "      do_sample=True,\n",
        "      max_new_tokens=max_new_tokens,\n",
        "      temperature=temperature,\n",
        "      pad_token_id=tokenizer.pad_token_id,\n",
        "      bos_token_id=tokenizer.bos_token_id,\n",
        "      eos_token_id=tokenizer.eos_token_id\n",
        "  )\n",
        "  output = tokenizer.decode(output_ids.tolist()[0][token_ids.size(1):], skip_special_tokens=True)\n",
        "  output = output.replace(\"<NL>\", \"\\n\")\n",
        "  return output\n",
        "\n",
        "\n",
        "def make_prompt(message, chat_history, max_context_size: int = 10):\n",
        "  contexts = chat_history + [[message, \"\"]]\n",
        "  contexts = list(itertools.chain.from_iterable(contexts))\n",
        "  if max_context_size > 0:\n",
        "    context_size = max_context_size - 1\n",
        "  else:\n",
        "    context_size = 100000\n",
        "  contexts = contexts[-context_size:]\n",
        "  prompt = []\n",
        "  for idx, context in enumerate(reversed(contexts)):\n",
        "    if idx % 2 == 0:\n",
        "      prompt = [f\"システム: {context}\"] + prompt\n",
        "    else:\n",
        "      prompt = [f\"ユーザー: {context}\"] + prompt    \n",
        "  prompt = \"<NL>\".join(prompt)\n",
        "  return prompt\n",
        "\n",
        "def interact_func(message, chat_history, max_context_size, max_new_tokens, temperature):\n",
        "  prompt = make_prompt(message, chat_history, max_context_size)\n",
        "  print(f\"prompt: {prompt}\")\n",
        "  generated = inference_func(prompt, max_new_tokens, temperature)\n",
        "  print(f\"generated: {generated}\")\n",
        "  chat_history.append((message, generated))\n",
        "  return \"\", chat_history\n",
        "\n",
        "\n",
        "with gr.Blocks() as demo:\n",
        "  gr.Markdown(\"# Chat with `rinna/japanese-gpt-neox-3.6b-instruction-sft`\")\n",
        "  with gr.Accordion(\"Configs\", open=False):\n",
        "      # max_context_size = the number of turns * 2\n",
        "      max_context_size = gr.Number(value=10, label=\"max_context_size\", precision=0)\n",
        "      max_new_tokens = gr.Number(value=128, label=\"max_new_tokens\", precision=0)\n",
        "      temperature = gr.Slider(0.0, 2.0, value=0.7, step=0.1, label=\"temperature\")\n",
        "  chatbot = gr.Chatbot()\n",
        "  msg = gr.Textbox()\n",
        "  clear = gr.Button(\"Clear\")\n",
        "  msg.submit(interact_func, [msg, chatbot, max_context_size, max_new_tokens, temperature], [msg, chatbot])\n",
        "  clear.click(lambda: None, None, chatbot, queue=False)\n",
        "\n",
        "if __name__ == \"__main__\":\n",
        "    demo.launch(debug=True, share=True)"
      ],
      "metadata": {
        "cellView": "form",
        "id": "Jz2bT7eKkQaG"
      },
      "execution_count": null,
      "outputs": []
    }
  ]
}