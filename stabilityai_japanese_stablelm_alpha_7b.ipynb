{
  "cells": [
    {
      "cell_type": "markdown",
      "metadata": {
        "id": "_ssxKGiXg_0L"
      },
      "source": [
        "# Japanese StableLM Alpha 7B\n",
        "<a target=\"_blank\" href=\"https://colab.research.google.com/github/mkshing/notebooks/blob/main/stabilityai_japanese_stablelm_alpha_7b.ipynb\">\n",
        "  <img src=\"https://colab.research.google.com/assets/colab-badge.svg\" alt=\"Open In Colab\"/>\n",
        "</a>\n",
        "\n",
        "This colab enables to interact the following Japanese StableLM Alpha 7B models on **free** Colab plan by int8 quantization.\n",
        "- https://huggingface.co/stabilityai/japanese-stablelm-base-alpha-7b\n",
        "- https://huggingface.co/stabilityai/japanese-stablelm-instruct-alpha-7b"
      ]
    },
    {
      "cell_type": "code",
      "execution_count": null,
      "metadata": {
        "cellView": "form",
        "id": "9-6jmt7Yg2Us"
      },
      "outputs": [],
      "source": [
        "# @title **Setup**\n",
        "!nvidia-smi\n",
        "!pip install transformers sentencepiece gradio ftfy 'accelerate>=0.12.0' 'bitsandbytes>=0.31.5' einops"
      ]
    },
    {
      "cell_type": "code",
      "source": [
        "# @title Login HuggingFace\n",
        "!huggingface-cli login"
      ],
      "metadata": {
        "cellView": "form",
        "id": "1QWqlTRqRyAt"
      },
      "execution_count": null,
      "outputs": []
    },
    {
      "cell_type": "code",
      "execution_count": null,
      "metadata": {
        "cellView": "form",
        "id": "g3xN2it8iQ9u"
      },
      "outputs": [],
      "source": [
        "# @title Load model\n",
        "import torch\n",
        "from transformers import LlamaTokenizer, AutoModelForCausalLM, BitsAndBytesConfig\n",
        "\n",
        "device = \"cuda\" if torch.cuda.is_available() else \"cpu\"\n",
        "print(f\"device: {device}\")\n",
        "\n",
        "model_id = \"stabilityai/japanese-stablelm-instruct-alpha-7b\" # @param [\"stabilityai/japanese-stablelm-base-alpha-7b\", \"stabilityai/japanese-stablelm-instruct-alpha-7b\"]\n",
        "\n",
        "tokenizer = LlamaTokenizer.from_pretrained(\"novelai/nerdstash-tokenizer-v1\")\n",
        "model = AutoModelForCausalLM.from_pretrained(\n",
        "    model_id,\n",
        "    trust_remote_code=True,\n",
        "    variant=\"int8\",\n",
        "    low_cpu_mem_usage=True,\n",
        "    load_in_8bit=True,\n",
        ")"
      ]
    },
    {
      "cell_type": "code",
      "execution_count": null,
      "metadata": {
        "cellView": "form",
        "id": "Jz2bT7eKkQaG"
      },
      "outputs": [],
      "source": [
        "# @title **Do the Run!**\n",
        "# @markdown You can try Japanese StableLM Alpha 7B in chat-like UI.\n",
        "# @markdown <br>**Remark:** this is single-turn inference, i.e., previous contexts are ignored.\n",
        "import itertools\n",
        "import gradio as gr\n",
        "\n",
        "import torch\n",
        "\n",
        "\n",
        "def build_prompt(user_query, inputs=\"\", sep=\"\\n\\n### \"):\n",
        "    sys_msg = \"以下は、タスクを説明する指示と、文脈のある入力の組み合わせです。要求を適切に満たす応答を書きなさい。\"\n",
        "    p = sys_msg\n",
        "    roles = [\"指示\", \"応答\"]\n",
        "    msgs = [\": \\n\" + user_query, \": \"]\n",
        "    if inputs:\n",
        "        roles.insert(1, \"入力\")\n",
        "        msgs.insert(1, \": \\n\" + inputs)\n",
        "    for role, msg in zip(roles, msgs):\n",
        "        p += sep + role + msg\n",
        "    return p\n",
        "\n",
        "\n",
        "@torch.no_grad()\n",
        "def inference_func(message, chat_history, additional_prompt, max_new_tokens=128, top_p=0.95, repetition_penalty=1.):\n",
        "  # Infer with prompt without any additional input\n",
        "  user_inputs = {\n",
        "      \"user_query\": message,\n",
        "      \"inputs\": additional_prompt,\n",
        "  }\n",
        "  prompt = build_prompt(**user_inputs)\n",
        "  print(f\"PROMPT:\\n{prompt}\")\n",
        "  input_ids = tokenizer.encode(prompt, add_special_tokens=False, return_tensors=\"pt\")\n",
        "  output_ids = model.generate(\n",
        "      input_ids.to(model.device),\n",
        "      do_sample=True,\n",
        "      max_new_tokens=max_new_tokens,\n",
        "      top_p=top_p,\n",
        "      temperature=1,\n",
        "      repetition_penalty=repetition_penalty,\n",
        "  )\n",
        "\n",
        "  generated = tokenizer.decode(output_ids.tolist()[0][input_ids.size(1):], skip_special_tokens=True).strip()\n",
        "  print(f\"generated: {generated}\")\n",
        "  chat_history.append((message, generated))\n",
        "  return \"\", chat_history\n",
        "\n",
        "\n",
        "with gr.Blocks() as demo:\n",
        "  with gr.Accordion(\"Configs\", open=False):\n",
        "      # max_context_size = the number of turns * 2\n",
        "      additional_prompt = gr.Textbox(label=\"additional_prompt\")\n",
        "      max_new_tokens = gr.Number(value=128, label=\"max_new_tokens\", precision=0)\n",
        "      top_p = gr.Slider(0.0, 1.0, value=0.95, step=0.01, label=\"top_p\")\n",
        "      repetition_penalty = gr.Slider(0.0, 5.0, value=1.1, step=0.1, label=\"repetition_penalty\")\n",
        "  chatbot = gr.Chatbot()\n",
        "  msg = gr.Textbox()\n",
        "  clear = gr.Button(\"Clear\")\n",
        "  msg.submit(inference_func, [msg, chatbot, additional_prompt, max_new_tokens, top_p, repetition_penalty], [msg, chatbot])\n",
        "  clear.click(lambda: None, None, chatbot, queue=False)\n",
        "\n",
        "if __name__ == \"__main__\":\n",
        "    demo.launch(debug=True, share=True, show_error=True)"
      ]
    }
  ],
  "metadata": {
    "accelerator": "GPU",
    "colab": {
      "gpuType": "T4",
      "provenance": []
    },
    "gpuClass": "standard",
    "kernelspec": {
      "display_name": "Python 3",
      "name": "python3"
    },
    "language_info": {
      "name": "python"
    }
  },
  "nbformat": 4,
  "nbformat_minor": 0
}